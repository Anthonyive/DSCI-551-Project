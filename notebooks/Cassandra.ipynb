{
 "cells": [
  {
   "cell_type": "code",
   "execution_count": 1,
   "metadata": {},
   "outputs": [],
   "source": [
    "from cassandra.cluster import Cluster\n",
    "clstr = Cluster()"
   ]
  },
  {
   "cell_type": "code",
   "execution_count": 2,
   "metadata": {},
   "outputs": [],
   "source": [
    "session=clstr.connect()"
   ]
  },
  {
   "cell_type": "code",
   "execution_count": 4,
   "metadata": {},
   "outputs": [
    {
     "data": {
      "text/plain": [
       "<cassandra.cluster.ResultSet at 0x7f8491c1e970>"
      ]
     },
     "execution_count": 4,
     "metadata": {},
     "output_type": "execute_result"
    }
   ],
   "source": [
    "session.execute(\"create keyspace dsci551 with replication={'class': 'SimpleStrategy', 'replication_factor':3};\")"
   ]
  },
  {
   "cell_type": "code",
   "execution_count": 5,
   "metadata": {},
   "outputs": [],
   "source": [
    "from cassandra.cluster import Cluster\n",
    "clstr=Cluster()\n",
    "session=clstr.connect('dsci551')"
   ]
  },
  {
   "cell_type": "code",
   "execution_count": null,
   "metadata": {},
   "outputs": [],
   "source": [
    "qry= '''\n",
    "create type texonomy_base (\n",
    "   id int,\n",
    "   name text,\n",
    "   path int,\n",
    "   children int,\n",
    "   primary key(id)\n",
    ");'''\n",
    "session.execute(qry)"
   ]
  },
  {
   "cell_type": "code",
   "execution_count": 5,
   "metadata": {},
   "outputs": [
    {
     "data": {
      "text/plain": [
       "<cassandra.cluster.ResultSet at 0x7f8491d7cc10>"
      ]
     },
     "execution_count": 5,
     "metadata": {},
     "output_type": "execute_result"
    }
   ],
   "source": [
    "qry= '''\n",
    "create table texonomy (\n",
    "   id int,\n",
    "   name text,\n",
    "   path int,\n",
    "   children int,\n",
    "   primary key(id)\n",
    ");'''\n",
    "session.execute(qry)"
   ]
  },
  {
   "cell_type": "code",
   "execution_count": 8,
   "metadata": {},
   "outputs": [
    {
     "data": {
      "text/plain": [
       "<cassandra.cluster.ResultSet at 0x7f8491e4c610>"
      ]
     },
     "execution_count": 8,
     "metadata": {},
     "output_type": "execute_result"
    }
   ],
   "source": [
    "from cassandra.cluster import Cluster\n",
    "clstr=Cluster()\n",
    "session=clstr.connect('mykeyspace')\n",
    "session.execute(\"insert into students (studentID, name, age, marks) values (1, 'Juhi',20, 200);\")"
   ]
  },
  {
   "cell_type": "code",
   "execution_count": 12,
   "metadata": {},
   "outputs": [
    {
     "name": "stdout",
     "output_type": "stream",
     "text": [
      "StudentID: 1 Name:20 Age:200 Marks:Juhi\n"
     ]
    }
   ],
   "source": [
    "from cassandra.cluster import Cluster\n",
    "clstr=Cluster()\n",
    "session=clstr.connect('mykeyspace')\n",
    "rows=session.execute(\"select * from students;\")\n",
    "for row in rows:\n",
    "    print(f'StudentID: {row[0]} Name:{row[1]} Age:{row[2]} Marks:{row[3]}')"
   ]
  },
  {
   "cell_type": "code",
   "execution_count": null,
   "metadata": {},
   "outputs": [],
   "source": []
  }
 ],
 "metadata": {
  "kernelspec": {
   "display_name": "dsci551-project",
   "language": "python",
   "name": "dsci551-project"
  },
  "language_info": {
   "codemirror_mode": {
    "name": "ipython",
    "version": 3
   },
   "file_extension": ".py",
   "mimetype": "text/x-python",
   "name": "python",
   "nbconvert_exporter": "python",
   "pygments_lexer": "ipython3",
   "version": "3.8.5"
  }
 },
 "nbformat": 4,
 "nbformat_minor": 4
}
